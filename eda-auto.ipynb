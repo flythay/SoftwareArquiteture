{
 "cells": [
  {
   "cell_type": "code",
   "execution_count": 1,
   "metadata": {},
   "outputs": [],
   "source": [
    "# kaggle_clean_eda/\n",
    "# ├── domain/\n",
    "# │   ├── entities/\n",
    "# │   │   └── dataset.py        # Entidades de dados\n",
    "# │   └── interfaces/\n",
    "# │       └── repositories.py   # Interfaces para acesso a dados\n",
    "# ├── application/\n",
    "# │   └── use_cases/\n",
    "# │       ├── auth_kaggle.py    # Caso de uso: Autenticação\n",
    "# │       └── eda_report.py     # Caso de uso: Geração de relatório\n",
    "# ├── adapters/\n",
    "# │   ├── repositories/\n",
    "# │   │   └── kaggle_repo.py    # Implementação concreta da Kaggle API\n",
    "# │   └── report_generators/\n",
    "# │       └── pandas_eda.py     # Geração de relatórios EDA\n",
    "# ├── infrastructure/\n",
    "# │   ├── logging/\n",
    "# │   │   └── logging_config.py # Configuração de logs\n",
    "# │   └── file_handlers/\n",
    "# │       └── csv_loader.py     # Carregamento de arquivos\n",
    "# └── main.py                   # Ponto de entrada"
   ]
  },
  {
   "cell_type": "markdown",
   "metadata": {},
   "source": [
    "### Importar as bibliotecas utilizadas no código"
   ]
  },
  {
   "cell_type": "code",
   "execution_count": null,
   "metadata": {},
   "outputs": [],
   "source": [
    "import logging\n",
    "import pandas as pd\n",
    "from abc import ABC, abstractmethod\n",
    "from kaggle.api.kaggle_api_extended import KaggleApi\n",
    "from domain.interfaces.repositories import IKaggleRepository\n",
    "from infrastructure.logging.logging_config import setup_logging\n",
    "from application.use_cases.eda_report import GenerateEDAReportUseCase\n",
    "from application.use_cases.auth_kaggle import AuthenticateKaggleUseCase"
   ]
  },
  {
   "cell_type": "markdown",
   "metadata": {},
   "source": [
    "### Domain Layer (Core): Define as entidades e interfaces, o domínio da aplicação."
   ]
  },
  {
   "cell_type": "code",
   "execution_count": 5,
   "metadata": {},
   "outputs": [],
   "source": [
    "# domain/entities/dataset.py\n",
    "class Dataset:\n",
    "    def __init__(self, name: str, data: 'pd.DataFrame'):\n",
    "        self.name = name\n",
    "        self.data = data\n",
    "\n",
    "# domain/interfaces/repositories.py\n",
    "\n",
    "class IKaggleRepository(ABC):\n",
    "    @abstractmethod\n",
    "    def authenticate(self):\n",
    "        pass\n",
    "    \n",
    "    @abstractmethod\n",
    "    def download_dataset(self, dataset_name: str, path: str):\n",
    "        pass"
   ]
  },
  {
   "cell_type": "markdown",
   "metadata": {},
   "source": [
    "### Application Layer (Casos de Uso): Orquestrador da lógica/regras de negócio"
   ]
  },
  {
   "cell_type": "code",
   "execution_count": null,
   "metadata": {},
   "outputs": [
    {
     "ename": "ModuleNotFoundError",
     "evalue": "No module named 'domain'",
     "output_type": "error",
     "traceback": [
      "\u001b[1;31m---------------------------------------------------------------------------\u001b[0m",
      "\u001b[1;31mModuleNotFoundError\u001b[0m                       Traceback (most recent call last)",
      "Cell \u001b[1;32mIn[6], line 1\u001b[0m\n\u001b[1;32m----> 1\u001b[0m \u001b[38;5;28;01mfrom\u001b[39;00m \u001b[38;5;21;01mdomain\u001b[39;00m\u001b[38;5;21;01m.\u001b[39;00m\u001b[38;5;21;01minterfaces\u001b[39;00m\u001b[38;5;21;01m.\u001b[39;00m\u001b[38;5;21;01mrepositories\u001b[39;00m \u001b[38;5;28;01mimport\u001b[39;00m IKaggleRepository\n",
      "\u001b[1;31mModuleNotFoundError\u001b[0m: No module named 'domain'"
     ]
    }
   ],
   "source": []
  },
  {
   "cell_type": "code",
   "execution_count": null,
   "metadata": {},
   "outputs": [],
   "source": [
    "# application/use_cases/auth_kaggle.py\n",
    "\n",
    "class AuthenticateKaggleUseCase:\n",
    "    def __init__(self, repo: IKaggleRepository):\n",
    "        self.repo = repo\n",
    "    \n",
    "    def execute(self):\n",
    "        self.repo.authenticate()"
   ]
  },
  {
   "cell_type": "markdown",
   "metadata": {},
   "source": [
    "### Adapters Layer (Implementações Concretas): Integração com serviços externos"
   ]
  },
  {
   "cell_type": "code",
   "execution_count": null,
   "metadata": {},
   "outputs": [],
   "source": [
    "# application/use_cases/eda_report.py\n",
    "\n",
    "class GenerateEDAReportUseCase:\n",
    "    def __init__(self, repo: IKaggleRepository):\n",
    "        self.repo = repo\n",
    "    \n",
    "    def execute(self, dataset_name: str, file_name: str):\n",
    "        # Download do dataset\n",
    "        self.repo.download_dataset(dataset_name, \"./data\")\n",
    "        \n",
    "        # Carregar dados\n",
    "        df = pd.read_csv(f\"./data/{file_name}\")\n",
    "        \n",
    "        # Análise automatizada\n",
    "        return {\n",
    "            \"info\": df.info(),\n",
    "            \"summary\": df.describe(include=\"object\"),\n",
    "            \"missing_values\": df.isnull().sum()\n",
    "        }"
   ]
  },
  {
   "cell_type": "markdown",
   "metadata": {},
   "source": [
    "### Infrastructure Layer (Detalhes Técnicos): Autenticação, definição da log."
   ]
  },
  {
   "cell_type": "code",
   "execution_count": null,
   "metadata": {},
   "outputs": [],
   "source": [
    "# adapters/repositories/kaggle_repo.py\n",
    "\n",
    "class KaggleRepository(IKaggleRepository):\n",
    "    def __init__(self):\n",
    "        self.api = KaggleApi()\n",
    "    \n",
    "    def authenticate(self):\n",
    "        self.api.authenticate()\n",
    "    \n",
    "    def download_dataset(self, dataset_name: str, path: str):\n",
    "        self.api.dataset_download_files(dataset_name, path=path, unzip=True)\n",
    "\n",
    "# infrastructure/logging/logging_config.py\n",
    "\n",
    "def setup_logging():\n",
    "    logging.basicConfig(level=logging.INFO, format='%(asctime)s - %(levelname)s - %(message)s')"
   ]
  },
  {
   "cell_type": "markdown",
   "metadata": {},
   "source": [
    "### Função principal"
   ]
  },
  {
   "cell_type": "code",
   "execution_count": null,
   "metadata": {},
   "outputs": [],
   "source": [
    "def main():\n",
    "    setup_logging()\n",
    "    \n",
    "    # Configurações\n",
    "    dataset_name = \"flynn28/european-football-matches\"\n",
    "    file_name = \"English Premier League.csv\"\n",
    "    \n",
    "    # Inicializar repositório\n",
    "    kaggle_repo = KaggleRepository()\n",
    "    \n",
    "    # Autenticar\n",
    "    auth_use_case = AuthenticateKaggleUseCase(kaggle_repo)\n",
    "    auth_use_case.execute()\n",
    "    \n",
    "    # Gerar relatório EDA\n",
    "    eda_use_case = GenerateEDAReportUseCase(kaggle_repo)\n",
    "    report = eda_use_case.execute(dataset_name, file_name)\n",
    "    \n",
    "    # Exibir resultados\n",
    "    print(\"Resumo do Dataset:\")\n",
    "    print(report[\"summary\"])\n",
    "    print(\"\\nValores Ausentes:\")\n",
    "    print(report[\"missing_values\"])\n",
    "\n",
    "if __name__ == \"__main__\":\n",
    "    main()"
   ]
  }
 ],
 "metadata": {
  "kernelspec": {
   "display_name": "base",
   "language": "python",
   "name": "python3"
  },
  "language_info": {
   "codemirror_mode": {
    "name": "ipython",
    "version": 3
   },
   "file_extension": ".py",
   "mimetype": "text/x-python",
   "name": "python",
   "nbconvert_exporter": "python",
   "pygments_lexer": "ipython3",
   "version": "3.12.7"
  }
 },
 "nbformat": 4,
 "nbformat_minor": 2
}
