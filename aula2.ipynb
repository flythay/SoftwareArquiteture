{
  "cells": [
    {
      "cell_type": "markdown",
      "metadata": {
        "id": "Ub1juLylAdYH"
      },
      "source": [
        "Instalação de bibliotecas"
      ]
    },
    {
      "cell_type": "code",
      "execution_count": 24,
      "metadata": {},
      "outputs": [
        {
          "name": "stdout",
          "output_type": "stream",
          "text": [
            "Defaulting to user installation because normal site-packages is not writeable\n",
            "Requirement already satisfied: kaggle in c:\\users\\thayse\\appdata\\roaming\\python\\python312\\site-packages (from -r requirements.txt (line 1)) (1.6.17)\n",
            "Requirement already satisfied: python-dotenv in c:\\programdata\\anaconda3\\lib\\site-packages (from -r requirements.txt (line 2)) (0.21.0)\n",
            "Requirement already satisfied: ipython in c:\\programdata\\anaconda3\\lib\\site-packages (from -r requirements.txt (line 3)) (8.27.0)\n",
            "Requirement already satisfied: autoviz in c:\\users\\thayse\\appdata\\roaming\\python\\python312\\site-packages (from -r requirements.txt (line 4)) (0.1.905)\n",
            "Requirement already satisfied: dtale in c:\\users\\thayse\\appdata\\roaming\\python\\python312\\site-packages (from -r requirements.txt (line 5)) (3.16.1)\n",
            "Requirement already satisfied: sweetviz in c:\\users\\thayse\\appdata\\roaming\\python\\python312\\site-packages (from -r requirements.txt (line 6)) (2.3.1)\n",
            "Requirement already satisfied: six>=1.10 in c:\\programdata\\anaconda3\\lib\\site-packages (from kaggle->-r requirements.txt (line 1)) (1.16.0)\n",
            "Requirement already satisfied: certifi>=2023.7.22 in c:\\programdata\\anaconda3\\lib\\site-packages (from kaggle->-r requirements.txt (line 1)) (2024.8.30)\n",
            "Requirement already satisfied: python-dateutil in c:\\programdata\\anaconda3\\lib\\site-packages (from kaggle->-r requirements.txt (line 1)) (2.9.0.post0)\n",
            "Requirement already satisfied: requests in c:\\programdata\\anaconda3\\lib\\site-packages (from kaggle->-r requirements.txt (line 1)) (2.32.3)\n",
            "Requirement already satisfied: tqdm in c:\\programdata\\anaconda3\\lib\\site-packages (from kaggle->-r requirements.txt (line 1)) (4.66.5)\n",
            "Requirement already satisfied: python-slugify in c:\\programdata\\anaconda3\\lib\\site-packages (from kaggle->-r requirements.txt (line 1)) (5.0.2)\n",
            "Requirement already satisfied: urllib3 in c:\\programdata\\anaconda3\\lib\\site-packages (from kaggle->-r requirements.txt (line 1)) (2.2.3)\n",
            "Requirement already satisfied: bleach in c:\\programdata\\anaconda3\\lib\\site-packages (from kaggle->-r requirements.txt (line 1)) (4.1.0)\n",
            "Requirement already satisfied: decorator in c:\\programdata\\anaconda3\\lib\\site-packages (from ipython->-r requirements.txt (line 3)) (5.1.1)\n",
            "Requirement already satisfied: jedi>=0.16 in c:\\programdata\\anaconda3\\lib\\site-packages (from ipython->-r requirements.txt (line 3)) (0.19.1)\n",
            "Requirement already satisfied: matplotlib-inline in c:\\programdata\\anaconda3\\lib\\site-packages (from ipython->-r requirements.txt (line 3)) (0.1.6)\n",
            "Requirement already satisfied: prompt-toolkit<3.1.0,>=3.0.41 in c:\\programdata\\anaconda3\\lib\\site-packages (from ipython->-r requirements.txt (line 3)) (3.0.43)\n",
            "Requirement already satisfied: pygments>=2.4.0 in c:\\programdata\\anaconda3\\lib\\site-packages (from ipython->-r requirements.txt (line 3)) (2.15.1)\n",
            "Requirement already satisfied: stack-data in c:\\programdata\\anaconda3\\lib\\site-packages (from ipython->-r requirements.txt (line 3)) (0.2.0)\n",
            "Requirement already satisfied: traitlets>=5.13.0 in c:\\programdata\\anaconda3\\lib\\site-packages (from ipython->-r requirements.txt (line 3)) (5.14.3)\n",
            "Requirement already satisfied: colorama in c:\\programdata\\anaconda3\\lib\\site-packages (from ipython->-r requirements.txt (line 3)) (0.4.6)\n",
            "Requirement already satisfied: xlrd in c:\\users\\thayse\\appdata\\roaming\\python\\python312\\site-packages (from autoviz->-r requirements.txt (line 4)) (2.0.1)\n",
            "Requirement already satisfied: wordcloud in c:\\users\\thayse\\appdata\\roaming\\python\\python312\\site-packages (from autoviz->-r requirements.txt (line 4)) (1.9.4)\n",
            "Requirement already satisfied: emoji in c:\\users\\thayse\\appdata\\roaming\\python\\python312\\site-packages (from autoviz->-r requirements.txt (line 4)) (2.14.1)\n",
            "Requirement already satisfied: pyamg in c:\\users\\thayse\\appdata\\roaming\\python\\python312\\site-packages (from autoviz->-r requirements.txt (line 4)) (5.2.1)\n",
            "Requirement already satisfied: scikit-learn in c:\\users\\thayse\\appdata\\roaming\\python\\python312\\site-packages (from autoviz->-r requirements.txt (line 4)) (1.4.2)\n",
            "Requirement already satisfied: statsmodels in c:\\programdata\\anaconda3\\lib\\site-packages (from autoviz->-r requirements.txt (line 4)) (0.14.2)\n",
            "Requirement already satisfied: nltk in c:\\programdata\\anaconda3\\lib\\site-packages (from autoviz->-r requirements.txt (line 4)) (3.9.1)\n",
            "Requirement already satisfied: textblob in c:\\users\\thayse\\appdata\\roaming\\python\\python312\\site-packages (from autoviz->-r requirements.txt (line 4)) (0.19.0)\n",
            "Requirement already satisfied: xgboost<1.7,>=0.82 in c:\\users\\thayse\\appdata\\roaming\\python\\python312\\site-packages (from autoviz->-r requirements.txt (line 4)) (1.6.2)\n",
            "Requirement already satisfied: fsspec>=0.8.3 in c:\\programdata\\anaconda3\\lib\\site-packages (from autoviz->-r requirements.txt (line 4)) (2024.6.1)\n",
            "Requirement already satisfied: typing-extensions>=4.1.1 in c:\\users\\thayse\\appdata\\roaming\\python\\python312\\site-packages (from autoviz->-r requirements.txt (line 4)) (4.12.2)\n",
            "Requirement already satisfied: pandas-dq>=1.29 in c:\\users\\thayse\\appdata\\roaming\\python\\python312\\site-packages (from autoviz->-r requirements.txt (line 4)) (1.29)\n",
            "Requirement already satisfied: numpy>=1.24.0 in c:\\programdata\\anaconda3\\lib\\site-packages (from autoviz->-r requirements.txt (line 4)) (1.26.4)\n",
            "Requirement already satisfied: hvplot>=0.9.2 in c:\\programdata\\anaconda3\\lib\\site-packages (from autoviz->-r requirements.txt (line 4)) (0.11.0)\n",
            "Requirement already satisfied: holoviews>=1.16.0 in c:\\programdata\\anaconda3\\lib\\site-packages (from autoviz->-r requirements.txt (line 4)) (1.19.1)\n",
            "Requirement already satisfied: panel>=1.4.0 in c:\\programdata\\anaconda3\\lib\\site-packages (from autoviz->-r requirements.txt (line 4)) (1.5.2)\n",
            "Requirement already satisfied: pandas>=2.0 in c:\\users\\thayse\\appdata\\roaming\\python\\python312\\site-packages (from autoviz->-r requirements.txt (line 4)) (2.1.4)\n",
            "Requirement already satisfied: matplotlib>3.7.4 in c:\\users\\thayse\\appdata\\roaming\\python\\python312\\site-packages (from autoviz->-r requirements.txt (line 4)) (3.7.5)\n",
            "Requirement already satisfied: seaborn>0.12.2 in c:\\programdata\\anaconda3\\lib\\site-packages (from autoviz->-r requirements.txt (line 4)) (0.13.2)\n",
            "Requirement already satisfied: dash-colorscales in c:\\users\\thayse\\appdata\\roaming\\python\\python312\\site-packages (from dtale->-r requirements.txt (line 5)) (0.0.4)\n",
            "Requirement already satisfied: dash-daq in c:\\users\\thayse\\appdata\\roaming\\python\\python312\\site-packages (from dtale->-r requirements.txt (line 5)) (0.5.0)\n",
            "Requirement already satisfied: future>=0.14.0 in c:\\users\\thayse\\appdata\\roaming\\python\\python312\\site-packages (from dtale->-r requirements.txt (line 5)) (1.0.0)\n",
            "Requirement already satisfied: missingno in c:\\users\\thayse\\appdata\\roaming\\python\\python312\\site-packages (from dtale->-r requirements.txt (line 5)) (0.5.2)\n",
            "Requirement already satisfied: squarify in c:\\users\\thayse\\appdata\\roaming\\python\\python312\\site-packages (from dtale->-r requirements.txt (line 5)) (0.4.4)\n",
            "Requirement already satisfied: strsimpy in c:\\users\\thayse\\appdata\\roaming\\python\\python312\\site-packages (from dtale->-r requirements.txt (line 5)) (0.2.1)\n",
            "Requirement already satisfied: beautifulsoup4!=4.13.0b2 in c:\\programdata\\anaconda3\\lib\\site-packages (from dtale->-r requirements.txt (line 5)) (4.12.3)\n",
            "Requirement already satisfied: dash-bootstrap-components in c:\\users\\thayse\\appdata\\roaming\\python\\python312\\site-packages (from dtale->-r requirements.txt (line 5)) (1.7.1)\n",
            "Requirement already satisfied: lz4 in c:\\programdata\\anaconda3\\lib\\site-packages (from dtale->-r requirements.txt (line 5)) (4.3.2)\n",
            "Requirement already satisfied: cycler in c:\\programdata\\anaconda3\\lib\\site-packages (from dtale->-r requirements.txt (line 5)) (0.11.0)\n",
            "Requirement already satisfied: dash in c:\\users\\thayse\\appdata\\roaming\\python\\python312\\site-packages (from dtale->-r requirements.txt (line 5)) (2.18.2)\n",
            "Requirement already satisfied: werkzeug in c:\\programdata\\anaconda3\\lib\\site-packages (from dtale->-r requirements.txt (line 5)) (3.0.3)\n",
            "Requirement already satisfied: Flask-Compress in c:\\users\\thayse\\appdata\\roaming\\python\\python312\\site-packages (from dtale->-r requirements.txt (line 5)) (1.17)\n",
            "Requirement already satisfied: networkx in c:\\programdata\\anaconda3\\lib\\site-packages (from dtale->-r requirements.txt (line 5)) (3.3)\n",
            "Requirement already satisfied: openpyxl!=3.2.0b1 in c:\\programdata\\anaconda3\\lib\\site-packages (from dtale->-r requirements.txt (line 5)) (3.1.5)\n",
            "Requirement already satisfied: xarray in c:\\programdata\\anaconda3\\lib\\site-packages (from dtale->-r requirements.txt (line 5)) (2023.6.0)\n",
            "Requirement already satisfied: scipy!=1.12.0rc1,!=1.14.0,!=1.14.0rc1,!=1.14.0rc2 in c:\\users\\thayse\\appdata\\roaming\\python\\python312\\site-packages (from dtale->-r requirements.txt (line 5)) (1.11.4)\n",
            "Requirement already satisfied: et-xmlfile in c:\\programdata\\anaconda3\\lib\\site-packages (from dtale->-r requirements.txt (line 5)) (1.1.0)\n",
            "Requirement already satisfied: plotly in c:\\programdata\\anaconda3\\lib\\site-packages (from dtale->-r requirements.txt (line 5)) (5.24.1)\n",
            "Requirement already satisfied: Flask in c:\\programdata\\anaconda3\\lib\\site-packages (from dtale->-r requirements.txt (line 5)) (3.0.3)\n",
            "Requirement already satisfied: itsdangerous in c:\\programdata\\anaconda3\\lib\\site-packages (from dtale->-r requirements.txt (line 5)) (2.2.0)\n",
            "Requirement already satisfied: kaleido in c:\\users\\thayse\\appdata\\roaming\\python\\python312\\site-packages (from dtale->-r requirements.txt (line 5)) (0.4.1)\n",
            "Requirement already satisfied: jinja2>=2.11.1 in c:\\programdata\\anaconda3\\lib\\site-packages (from sweetviz->-r requirements.txt (line 6)) (3.1.4)\n",
            "Requirement already satisfied: importlib-resources>=1.2.0 in c:\\users\\thayse\\appdata\\roaming\\python\\python312\\site-packages (from sweetviz->-r requirements.txt (line 6)) (6.4.5)\n",
            "Requirement already satisfied: soupsieve>1.2 in c:\\programdata\\anaconda3\\lib\\site-packages (from beautifulsoup4!=4.13.0b2->dtale->-r requirements.txt (line 5)) (2.5)\n",
            "Requirement already satisfied: bokeh>=3.1 in c:\\programdata\\anaconda3\\lib\\site-packages (from holoviews>=1.16.0->autoviz->-r requirements.txt (line 4)) (3.6.0)\n",
            "Requirement already satisfied: colorcet in c:\\programdata\\anaconda3\\lib\\site-packages (from holoviews>=1.16.0->autoviz->-r requirements.txt (line 4)) (3.1.0)\n",
            "Requirement already satisfied: packaging in c:\\programdata\\anaconda3\\lib\\site-packages (from holoviews>=1.16.0->autoviz->-r requirements.txt (line 4)) (24.1)\n",
            "Requirement already satisfied: param<3.0,>=2.0 in c:\\programdata\\anaconda3\\lib\\site-packages (from holoviews>=1.16.0->autoviz->-r requirements.txt (line 4)) (2.1.1)\n",
            "Requirement already satisfied: pyviz-comms>=2.1 in c:\\programdata\\anaconda3\\lib\\site-packages (from holoviews>=1.16.0->autoviz->-r requirements.txt (line 4)) (3.0.2)\n",
            "Requirement already satisfied: parso<0.9.0,>=0.8.3 in c:\\programdata\\anaconda3\\lib\\site-packages (from jedi>=0.16->ipython->-r requirements.txt (line 3)) (0.8.3)\n",
            "Requirement already satisfied: MarkupSafe>=2.0 in c:\\programdata\\anaconda3\\lib\\site-packages (from jinja2>=2.11.1->sweetviz->-r requirements.txt (line 6)) (2.1.3)\n",
            "Requirement already satisfied: contourpy>=1.0.1 in c:\\programdata\\anaconda3\\lib\\site-packages (from matplotlib>3.7.4->autoviz->-r requirements.txt (line 4)) (1.2.0)\n",
            "Requirement already satisfied: fonttools>=4.22.0 in c:\\programdata\\anaconda3\\lib\\site-packages (from matplotlib>3.7.4->autoviz->-r requirements.txt (line 4)) (4.51.0)\n",
            "Requirement already satisfied: kiwisolver>=1.0.1 in c:\\programdata\\anaconda3\\lib\\site-packages (from matplotlib>3.7.4->autoviz->-r requirements.txt (line 4)) (1.4.4)\n",
            "Requirement already satisfied: pillow>=6.2.0 in c:\\programdata\\anaconda3\\lib\\site-packages (from matplotlib>3.7.4->autoviz->-r requirements.txt (line 4)) (10.4.0)\n",
            "Requirement already satisfied: pyparsing>=2.3.1 in c:\\programdata\\anaconda3\\lib\\site-packages (from matplotlib>3.7.4->autoviz->-r requirements.txt (line 4)) (3.1.2)\n",
            "Requirement already satisfied: pytz>=2020.1 in c:\\programdata\\anaconda3\\lib\\site-packages (from pandas>=2.0->autoviz->-r requirements.txt (line 4)) (2024.1)\n",
            "Requirement already satisfied: tzdata>=2022.1 in c:\\programdata\\anaconda3\\lib\\site-packages (from pandas>=2.0->autoviz->-r requirements.txt (line 4)) (2023.3)\n",
            "Requirement already satisfied: linkify-it-py in c:\\programdata\\anaconda3\\lib\\site-packages (from panel>=1.4.0->autoviz->-r requirements.txt (line 4)) (2.0.0)\n",
            "Requirement already satisfied: markdown in c:\\programdata\\anaconda3\\lib\\site-packages (from panel>=1.4.0->autoviz->-r requirements.txt (line 4)) (3.4.1)\n",
            "Requirement already satisfied: markdown-it-py in c:\\programdata\\anaconda3\\lib\\site-packages (from panel>=1.4.0->autoviz->-r requirements.txt (line 4)) (2.2.0)\n",
            "Requirement already satisfied: mdit-py-plugins in c:\\programdata\\anaconda3\\lib\\site-packages (from panel>=1.4.0->autoviz->-r requirements.txt (line 4)) (0.3.0)\n",
            "Requirement already satisfied: wcwidth in c:\\programdata\\anaconda3\\lib\\site-packages (from prompt-toolkit<3.1.0,>=3.0.41->ipython->-r requirements.txt (line 3)) (0.2.5)\n",
            "Requirement already satisfied: joblib>=1.2.0 in c:\\users\\thayse\\appdata\\roaming\\python\\python312\\site-packages (from scikit-learn->autoviz->-r requirements.txt (line 4)) (1.3.2)\n",
            "Requirement already satisfied: threadpoolctl>=2.0.0 in c:\\programdata\\anaconda3\\lib\\site-packages (from scikit-learn->autoviz->-r requirements.txt (line 4)) (3.5.0)\n",
            "Requirement already satisfied: webencodings in c:\\programdata\\anaconda3\\lib\\site-packages (from bleach->kaggle->-r requirements.txt (line 1)) (0.5.1)\n",
            "Requirement already satisfied: dash-html-components==2.0.0 in c:\\users\\thayse\\appdata\\roaming\\python\\python312\\site-packages (from dash->dtale->-r requirements.txt (line 5)) (2.0.0)\n",
            "Requirement already satisfied: dash-core-components==2.0.0 in c:\\users\\thayse\\appdata\\roaming\\python\\python312\\site-packages (from dash->dtale->-r requirements.txt (line 5)) (2.0.0)\n",
            "Requirement already satisfied: dash-table==5.0.0 in c:\\users\\thayse\\appdata\\roaming\\python\\python312\\site-packages (from dash->dtale->-r requirements.txt (line 5)) (5.0.0)\n",
            "Requirement already satisfied: importlib-metadata in c:\\programdata\\anaconda3\\lib\\site-packages (from dash->dtale->-r requirements.txt (line 5)) (7.0.1)\n",
            "Requirement already satisfied: retrying in c:\\users\\thayse\\appdata\\roaming\\python\\python312\\site-packages (from dash->dtale->-r requirements.txt (line 5)) (1.3.4)\n",
            "Requirement already satisfied: nest-asyncio in c:\\programdata\\anaconda3\\lib\\site-packages (from dash->dtale->-r requirements.txt (line 5)) (1.6.0)\n",
            "Requirement already satisfied: setuptools in c:\\programdata\\anaconda3\\lib\\site-packages (from dash->dtale->-r requirements.txt (line 5)) (75.1.0)\n",
            "Requirement already satisfied: click>=8.1.3 in c:\\programdata\\anaconda3\\lib\\site-packages (from Flask->dtale->-r requirements.txt (line 5)) (8.1.7)\n",
            "Requirement already satisfied: blinker>=1.6.2 in c:\\programdata\\anaconda3\\lib\\site-packages (from Flask->dtale->-r requirements.txt (line 5)) (1.6.2)\n",
            "Requirement already satisfied: tenacity>=6.2.0 in c:\\programdata\\anaconda3\\lib\\site-packages (from plotly->dtale->-r requirements.txt (line 5)) (8.2.3)\n",
            "Requirement already satisfied: brotli in c:\\programdata\\anaconda3\\lib\\site-packages (from Flask-Compress->dtale->-r requirements.txt (line 5)) (1.0.9)\n",
            "Requirement already satisfied: zstandard in c:\\programdata\\anaconda3\\lib\\site-packages (from Flask-Compress->dtale->-r requirements.txt (line 5)) (0.23.0)\n",
            "Requirement already satisfied: choreographer>=0.99.6 in c:\\users\\thayse\\appdata\\roaming\\python\\python312\\site-packages (from kaleido->dtale->-r requirements.txt (line 5)) (0.99.6)\n",
            "Requirement already satisfied: async-timeout in c:\\users\\thayse\\appdata\\roaming\\python\\python312\\site-packages (from kaleido->dtale->-r requirements.txt (line 5)) (5.0.1)\n",
            "Requirement already satisfied: regex>=2021.8.3 in c:\\programdata\\anaconda3\\lib\\site-packages (from nltk->autoviz->-r requirements.txt (line 4)) (2024.9.11)\n",
            "Requirement already satisfied: text-unidecode>=1.3 in c:\\programdata\\anaconda3\\lib\\site-packages (from python-slugify->kaggle->-r requirements.txt (line 1)) (1.3)\n",
            "Requirement already satisfied: charset-normalizer<4,>=2 in c:\\programdata\\anaconda3\\lib\\site-packages (from requests->kaggle->-r requirements.txt (line 1)) (3.3.2)\n",
            "Requirement already satisfied: idna<4,>=2.5 in c:\\programdata\\anaconda3\\lib\\site-packages (from requests->kaggle->-r requirements.txt (line 1)) (3.7)\n",
            "Requirement already satisfied: executing in c:\\programdata\\anaconda3\\lib\\site-packages (from stack-data->ipython->-r requirements.txt (line 3)) (0.8.3)\n",
            "Requirement already satisfied: asttokens in c:\\programdata\\anaconda3\\lib\\site-packages (from stack-data->ipython->-r requirements.txt (line 3)) (2.0.5)\n",
            "Requirement already satisfied: pure-eval in c:\\programdata\\anaconda3\\lib\\site-packages (from stack-data->ipython->-r requirements.txt (line 3)) (0.2.2)\n",
            "Requirement already satisfied: patsy>=0.5.6 in c:\\programdata\\anaconda3\\lib\\site-packages (from statsmodels->autoviz->-r requirements.txt (line 4)) (0.5.6)\n",
            "Requirement already satisfied: PyYAML>=3.10 in c:\\programdata\\anaconda3\\lib\\site-packages (from bokeh>=3.1->holoviews>=1.16.0->autoviz->-r requirements.txt (line 4)) (6.0.1)\n",
            "Requirement already satisfied: tornado>=6.2 in c:\\programdata\\anaconda3\\lib\\site-packages (from bokeh>=3.1->holoviews>=1.16.0->autoviz->-r requirements.txt (line 4)) (6.4.1)\n",
            "Requirement already satisfied: xyzservices>=2021.09.1 in c:\\programdata\\anaconda3\\lib\\site-packages (from bokeh>=3.1->holoviews>=1.16.0->autoviz->-r requirements.txt (line 4)) (2022.9.0)\n",
            "Requirement already satisfied: zipp>=0.5 in c:\\programdata\\anaconda3\\lib\\site-packages (from importlib-metadata->dash->dtale->-r requirements.txt (line 5)) (3.17.0)\n",
            "Requirement already satisfied: uc-micro-py in c:\\programdata\\anaconda3\\lib\\site-packages (from linkify-it-py->panel>=1.4.0->autoviz->-r requirements.txt (line 4)) (1.0.1)\n",
            "Requirement already satisfied: mdurl~=0.1 in c:\\programdata\\anaconda3\\lib\\site-packages (from markdown-it-py->panel>=1.4.0->autoviz->-r requirements.txt (line 4)) (0.1.0)\n",
            "Note: you may need to restart the kernel to use updated packages.\n"
          ]
        }
      ],
      "source": [
        "pip install -r requirements.txt"
      ]
    },
    {
      "cell_type": "markdown",
      "metadata": {
        "id": "PgkNCdh8As-W"
      },
      "source": [
        "Importar bibliotecas necessárias:"
      ]
    },
    {
      "cell_type": "code",
      "execution_count": 6,
      "metadata": {
        "id": "zjMliuVyAiWe"
      },
      "outputs": [
        {
          "name": "stdout",
          "output_type": "stream",
          "text": [
            "Imported v0.1.905. Please call AutoViz in this sequence:\n",
            "    AV = AutoViz_Class()\n",
            "    %matplotlib inline\n",
            "    dfte = AV.AutoViz(filename, sep=',', depVar='', dfte=None, header=0, verbose=1, lowess=False,\n",
            "               chart_format='svg',max_rows_analyzed=150000,max_cols_analyzed=30, save_plot_dir=None)\n"
          ]
        }
      ],
      "source": [
        "import dtale\n",
        "import pandas as pd\n",
        "import matplotlib.pyplot as plt\n",
        "from autoviz.AutoViz_Class import AutoViz_Class\n",
        "from kaggle.api.kaggle_api_extended import KaggleApi"
      ]
    },
    {
      "cell_type": "code",
      "execution_count": 7,
      "metadata": {
        "colab": {
          "base_uri": "https://localhost:8080/"
        },
        "id": "wXm8QWsfRoEh",
        "outputId": "17f48488-ff1b-420b-c5b7-969bdb19dac0"
      },
      "outputs": [
        {
          "name": "stdout",
          "output_type": "stream",
          "text": [
            "Autenticação bem-sucedida !\n",
            "\n",
            "Seus datasets:\n",
            "[asinow/car-price-dataset, mahmoudelhemaly/students-grading-dataset, vinothkannaece/sales-dataset, abdulmalik1518/mobiles-dataset-2025, adilshamim8/education-and-career-success, adilshamim8/startup-growth-and-investment-data, adilshamim8/sleep-cycle-and-productivity, akxiit/blinkit-sales-dataset, adilshamim8/global-traffic-accidents-dataset, adilshamim8/daily-food-and-nutrition-dataset, meharshanali/nvidia-stocks-data-2025, anandshaw2001/netflix-movies-and-tv-shows, krishnanshverma/imdb-movies-dataset, arnavgupta1205/usa-housing-dataset, asinow/laptop-price-dataset, ruchikakumbhar/zomato-dataset, mzohaibzeeshan/google-stock-price-data-2020-2025-googl, flynn28/european-football-matches, asinow/schizohealth-dataset, mahatiratusher/stroke-risk-prediction-dataset]\n"
          ]
        }
      ],
      "source": [
        "try:\n",
        "    api = KaggleApi()\n",
        "    api.authenticate()\n",
        "    print(\"Autenticação bem-sucedida !\")\n",
        "\n",
        "    # Teste\n",
        "    print(\"\\nSeus datasets:\")\n",
        "    print(api.dataset_list())\n",
        "\n",
        "except Exception as e:\n",
        "    print(f\"❌ Erro: {e}\")"
      ]
    },
    {
      "cell_type": "code",
      "execution_count": 8,
      "metadata": {
        "colab": {
          "base_uri": "https://localhost:8080/"
        },
        "id": "4s3ROu0OBfmO",
        "outputId": "19eb9c28-4338-4534-8f14-f46c1e94833e"
      },
      "outputs": [
        {
          "name": "stdout",
          "output_type": "stream",
          "text": [
            "Dataset URL: https://www.kaggle.com/datasets/flynn28/european-football-matches\n"
          ]
        }
      ],
      "source": [
        "dataset_name = \"flynn28/european-football-matches\"\n",
        "api.dataset_download_files(dataset_name, unzip=True)\n",
        "# KEY: A = Away team win. H = Home team win. D = Draw"
      ]
    },
    {
      "cell_type": "code",
      "execution_count": 9,
      "metadata": {
        "id": "LeuDKD-IaBOe"
      },
      "outputs": [],
      "source": [
        "file_name=\"English Premier League.csv\""
      ]
    },
    {
      "cell_type": "code",
      "execution_count": 11,
      "metadata": {
        "id": "1KkBp5ObZr9H"
      },
      "outputs": [],
      "source": [
        "df = pd.read_csv(f\"{file_name}\")"
      ]
    },
    {
      "cell_type": "code",
      "execution_count": 12,
      "metadata": {
        "colab": {
          "base_uri": "https://localhost:8080/"
        },
        "id": "05rltYXRZ2_u",
        "outputId": "df0392f9-6824-42cd-d3a6-b370d046590f"
      },
      "outputs": [
        {
          "name": "stdout",
          "output_type": "stream",
          "text": [
            "<class 'pandas.core.frame.DataFrame'>\n",
            "RangeIndex: 11564 entries, 0 to 11563\n",
            "Data columns (total 7 columns):\n",
            " #   Column     Non-Null Count  Dtype  \n",
            "---  ------     --------------  -----  \n",
            " 0   League     11564 non-null  object \n",
            " 1   Date       11564 non-null  object \n",
            " 2   HomeTeam   11564 non-null  object \n",
            " 3   AwayTeam   11564 non-null  object \n",
            " 4   HomeGoals  11564 non-null  float64\n",
            " 5   AwayGoals  11564 non-null  float64\n",
            " 6   Result     11564 non-null  object \n",
            "dtypes: float64(2), object(5)\n",
            "memory usage: 632.5+ KB\n"
          ]
        }
      ],
      "source": [
        "df.info()"
      ]
    },
    {
      "cell_type": "code",
      "execution_count": 14,
      "metadata": {
        "colab": {
          "base_uri": "https://localhost:8080/",
          "height": 141
        },
        "id": "Wf7mKbxBD5lU",
        "outputId": "8697e738-cb07-4eaf-e763-7c8510e6bc41"
      },
      "outputs": [
        {
          "data": {
            "text/html": [
              "<div>\n",
              "<style scoped>\n",
              "    .dataframe tbody tr th:only-of-type {\n",
              "        vertical-align: middle;\n",
              "    }\n",
              "\n",
              "    .dataframe tbody tr th {\n",
              "        vertical-align: top;\n",
              "    }\n",
              "\n",
              "    .dataframe thead th {\n",
              "        text-align: right;\n",
              "    }\n",
              "</style>\n",
              "<table border=\"1\" class=\"dataframe\">\n",
              "  <thead>\n",
              "    <tr style=\"text-align: center;\">\n",
              "      <th></th>\n",
              "      <th>League</th>\n",
              "      <th>Date</th>\n",
              "      <th>HomeTeam</th>\n",
              "      <th>AwayTeam</th>\n",
              "      <th>HomeGoals</th>\n",
              "      <th>AwayGoals</th>\n",
              "      <th>Result</th>\n",
              "    </tr>\n",
              "  </thead>\n",
              "  <tbody>\n",
              "    <tr>\n",
              "      <th>0</th>\n",
              "      <td>English Premier League</td>\n",
              "      <td>14/08/93</td>\n",
              "      <td>Arsenal</td>\n",
              "      <td>Coventry</td>\n",
              "      <td>0.0</td>\n",
              "      <td>3.0</td>\n",
              "      <td>A</td>\n",
              "    </tr>\n",
              "    <tr>\n",
              "      <th>1</th>\n",
              "      <td>English Premier League</td>\n",
              "      <td>14/08/93</td>\n",
              "      <td>Aston Villa</td>\n",
              "      <td>QPR</td>\n",
              "      <td>4.0</td>\n",
              "      <td>1.0</td>\n",
              "      <td>H</td>\n",
              "    </tr>\n",
              "    <tr>\n",
              "      <th>2</th>\n",
              "      <td>English Premier League</td>\n",
              "      <td>14/08/93</td>\n",
              "      <td>Chelsea</td>\n",
              "      <td>Blackburn</td>\n",
              "      <td>1.0</td>\n",
              "      <td>2.0</td>\n",
              "      <td>A</td>\n",
              "    </tr>\n",
              "    <tr>\n",
              "      <th>3</th>\n",
              "      <td>English Premier League</td>\n",
              "      <td>14/08/93</td>\n",
              "      <td>Liverpool</td>\n",
              "      <td>Sheffield Weds</td>\n",
              "      <td>2.0</td>\n",
              "      <td>0.0</td>\n",
              "      <td>H</td>\n",
              "    </tr>\n",
              "    <tr>\n",
              "      <th>4</th>\n",
              "      <td>English Premier League</td>\n",
              "      <td>14/08/93</td>\n",
              "      <td>Man City</td>\n",
              "      <td>Leeds</td>\n",
              "      <td>1.0</td>\n",
              "      <td>1.0</td>\n",
              "      <td>D</td>\n",
              "    </tr>\n",
              "    <tr>\n",
              "      <th>5</th>\n",
              "      <td>English Premier League</td>\n",
              "      <td>14/08/93</td>\n",
              "      <td>Newcastle</td>\n",
              "      <td>Tottenham</td>\n",
              "      <td>0.0</td>\n",
              "      <td>1.0</td>\n",
              "      <td>A</td>\n",
              "    </tr>\n",
              "    <tr>\n",
              "      <th>6</th>\n",
              "      <td>English Premier League</td>\n",
              "      <td>14/08/93</td>\n",
              "      <td>Oldham</td>\n",
              "      <td>Ipswich</td>\n",
              "      <td>0.0</td>\n",
              "      <td>3.0</td>\n",
              "      <td>A</td>\n",
              "    </tr>\n",
              "    <tr>\n",
              "      <th>7</th>\n",
              "      <td>English Premier League</td>\n",
              "      <td>14/08/93</td>\n",
              "      <td>Sheffield United</td>\n",
              "      <td>Swindon</td>\n",
              "      <td>3.0</td>\n",
              "      <td>1.0</td>\n",
              "      <td>H</td>\n",
              "    </tr>\n",
              "    <tr>\n",
              "      <th>8</th>\n",
              "      <td>English Premier League</td>\n",
              "      <td>14/08/93</td>\n",
              "      <td>Southampton</td>\n",
              "      <td>Everton</td>\n",
              "      <td>0.0</td>\n",
              "      <td>2.0</td>\n",
              "      <td>A</td>\n",
              "    </tr>\n",
              "    <tr>\n",
              "      <th>9</th>\n",
              "      <td>English Premier League</td>\n",
              "      <td>14/08/93</td>\n",
              "      <td>West Ham</td>\n",
              "      <td>Wimbledon</td>\n",
              "      <td>0.0</td>\n",
              "      <td>2.0</td>\n",
              "      <td>A</td>\n",
              "    </tr>\n",
              "  </tbody>\n",
              "</table>\n",
              "</div>"
            ],
            "text/plain": [
              "           League            Date        HomeTeam         AwayTeam     \\\n",
              "0  English Premier League  14/08/93           Arsenal        Coventry   \n",
              "1  English Premier League  14/08/93       Aston Villa             QPR   \n",
              "2  English Premier League  14/08/93           Chelsea       Blackburn   \n",
              "3  English Premier League  14/08/93         Liverpool  Sheffield Weds   \n",
              "4  English Premier League  14/08/93          Man City           Leeds   \n",
              "5  English Premier League  14/08/93         Newcastle       Tottenham   \n",
              "6  English Premier League  14/08/93            Oldham         Ipswich   \n",
              "7  English Premier League  14/08/93  Sheffield United         Swindon   \n",
              "8  English Premier League  14/08/93       Southampton         Everton   \n",
              "9  English Premier League  14/08/93          West Ham       Wimbledon   \n",
              "\n",
              "   HomeGoals  AwayGoals Result  \n",
              "0     0.0        3.0       A    \n",
              "1     4.0        1.0       H    \n",
              "2     1.0        2.0       A    \n",
              "3     2.0        0.0       H    \n",
              "4     1.0        1.0       D    \n",
              "5     0.0        1.0       A    \n",
              "6     0.0        3.0       A    \n",
              "7     3.0        1.0       H    \n",
              "8     0.0        2.0       A    \n",
              "9     0.0        2.0       A    "
            ]
          },
          "execution_count": 14,
          "metadata": {},
          "output_type": "execute_result"
        }
      ],
      "source": [
        "df.head(10)"
      ]
    },
    {
      "cell_type": "code",
      "execution_count": 15,
      "metadata": {},
      "outputs": [
        {
          "data": {
            "text/html": [
              "<div>\n",
              "<style scoped>\n",
              "    .dataframe tbody tr th:only-of-type {\n",
              "        vertical-align: middle;\n",
              "    }\n",
              "\n",
              "    .dataframe tbody tr th {\n",
              "        vertical-align: top;\n",
              "    }\n",
              "\n",
              "    .dataframe thead th {\n",
              "        text-align: right;\n",
              "    }\n",
              "</style>\n",
              "<table border=\"1\" class=\"dataframe\">\n",
              "  <thead>\n",
              "    <tr style=\"text-align: center;\">\n",
              "      <th></th>\n",
              "      <th>HomeGoals</th>\n",
              "      <th>AwayGoals</th>\n",
              "    </tr>\n",
              "  </thead>\n",
              "  <tbody>\n",
              "    <tr>\n",
              "      <th>count</th>\n",
              "      <td>11564.000000</td>\n",
              "      <td>11564.000000</td>\n",
              "    </tr>\n",
              "    <tr>\n",
              "      <th>mean</th>\n",
              "      <td>1.522743</td>\n",
              "      <td>1.145019</td>\n",
              "    </tr>\n",
              "    <tr>\n",
              "      <th>std</th>\n",
              "      <td>1.306091</td>\n",
              "      <td>1.138957</td>\n",
              "    </tr>\n",
              "    <tr>\n",
              "      <th>min</th>\n",
              "      <td>0.000000</td>\n",
              "      <td>0.000000</td>\n",
              "    </tr>\n",
              "    <tr>\n",
              "      <th>25%</th>\n",
              "      <td>1.000000</td>\n",
              "      <td>0.000000</td>\n",
              "    </tr>\n",
              "    <tr>\n",
              "      <th>50%</th>\n",
              "      <td>1.000000</td>\n",
              "      <td>1.000000</td>\n",
              "    </tr>\n",
              "    <tr>\n",
              "      <th>75%</th>\n",
              "      <td>2.000000</td>\n",
              "      <td>2.000000</td>\n",
              "    </tr>\n",
              "    <tr>\n",
              "      <th>max</th>\n",
              "      <td>9.000000</td>\n",
              "      <td>9.000000</td>\n",
              "    </tr>\n",
              "  </tbody>\n",
              "</table>\n",
              "</div>"
            ],
            "text/plain": [
              "         HomeGoals     AwayGoals \n",
              "count  11564.000000  11564.000000\n",
              "mean       1.522743      1.145019\n",
              "std        1.306091      1.138957\n",
              "min        0.000000      0.000000\n",
              "25%        1.000000      0.000000\n",
              "50%        1.000000      1.000000\n",
              "75%        2.000000      2.000000\n",
              "max        9.000000      9.000000"
            ]
          },
          "execution_count": 15,
          "metadata": {},
          "output_type": "execute_result"
        }
      ],
      "source": [
        "df.describe()"
      ]
    },
    {
      "cell_type": "code",
      "execution_count": 16,
      "metadata": {},
      "outputs": [
        {
          "data": {
            "text/html": [
              "<div>\n",
              "<style scoped>\n",
              "    .dataframe tbody tr th:only-of-type {\n",
              "        vertical-align: middle;\n",
              "    }\n",
              "\n",
              "    .dataframe tbody tr th {\n",
              "        vertical-align: top;\n",
              "    }\n",
              "\n",
              "    .dataframe thead th {\n",
              "        text-align: right;\n",
              "    }\n",
              "</style>\n",
              "<table border=\"1\" class=\"dataframe\">\n",
              "  <thead>\n",
              "    <tr style=\"text-align: center;\">\n",
              "      <th></th>\n",
              "      <th>HomeGoals</th>\n",
              "      <th>AwayGoals</th>\n",
              "    </tr>\n",
              "  </thead>\n",
              "  <tbody>\n",
              "    <tr>\n",
              "      <th>count</th>\n",
              "      <td>11564.0</td>\n",
              "      <td>11564.0</td>\n",
              "    </tr>\n",
              "    <tr>\n",
              "      <th>mean</th>\n",
              "      <td>2.0</td>\n",
              "      <td>1.0</td>\n",
              "    </tr>\n",
              "    <tr>\n",
              "      <th>std</th>\n",
              "      <td>1.0</td>\n",
              "      <td>1.0</td>\n",
              "    </tr>\n",
              "    <tr>\n",
              "      <th>min</th>\n",
              "      <td>0.0</td>\n",
              "      <td>0.0</td>\n",
              "    </tr>\n",
              "    <tr>\n",
              "      <th>25%</th>\n",
              "      <td>1.0</td>\n",
              "      <td>0.0</td>\n",
              "    </tr>\n",
              "    <tr>\n",
              "      <th>50%</th>\n",
              "      <td>1.0</td>\n",
              "      <td>1.0</td>\n",
              "    </tr>\n",
              "    <tr>\n",
              "      <th>75%</th>\n",
              "      <td>2.0</td>\n",
              "      <td>2.0</td>\n",
              "    </tr>\n",
              "    <tr>\n",
              "      <th>max</th>\n",
              "      <td>9.0</td>\n",
              "      <td>9.0</td>\n",
              "    </tr>\n",
              "  </tbody>\n",
              "</table>\n",
              "</div>"
            ],
            "text/plain": [
              "       HomeGoals  AwayGoals\n",
              "count   11564.0    11564.0 \n",
              "mean        2.0        1.0 \n",
              "std         1.0        1.0 \n",
              "min         0.0        0.0 \n",
              "25%         1.0        0.0 \n",
              "50%         1.0        1.0 \n",
              "75%         2.0        2.0 \n",
              "max         9.0        9.0 "
            ]
          },
          "execution_count": 16,
          "metadata": {},
          "output_type": "execute_result"
        }
      ],
      "source": [
        "df.describe().round()"
      ]
    },
    {
      "cell_type": "code",
      "execution_count": 18,
      "metadata": {
        "colab": {
          "base_uri": "https://localhost:8080/",
          "height": 686
        },
        "id": "8VrY9ChQD8FU",
        "outputId": "c1e34691-c363-4024-9379-88c22239f06f"
      },
      "outputs": [
        {
          "data": {
            "text/html": [
              "<div>\n",
              "<style scoped>\n",
              "    .dataframe tbody tr th:only-of-type {\n",
              "        vertical-align: middle;\n",
              "    }\n",
              "\n",
              "    .dataframe tbody tr th {\n",
              "        vertical-align: top;\n",
              "    }\n",
              "\n",
              "    .dataframe thead th {\n",
              "        text-align: right;\n",
              "    }\n",
              "</style>\n",
              "<table border=\"1\" class=\"dataframe\">\n",
              "  <thead>\n",
              "    <tr style=\"text-align: center;\">\n",
              "      <th></th>\n",
              "      <th>League</th>\n",
              "      <th>Date</th>\n",
              "      <th>HomeTeam</th>\n",
              "      <th>AwayTeam</th>\n",
              "      <th>Result</th>\n",
              "    </tr>\n",
              "  </thead>\n",
              "  <tbody>\n",
              "    <tr>\n",
              "      <th>count</th>\n",
              "      <td>11564</td>\n",
              "      <td>11564</td>\n",
              "      <td>11564</td>\n",
              "      <td>11564</td>\n",
              "      <td>11564</td>\n",
              "    </tr>\n",
              "    <tr>\n",
              "      <th>unique</th>\n",
              "      <td>1</td>\n",
              "      <td>3170</td>\n",
              "      <td>50</td>\n",
              "      <td>50</td>\n",
              "      <td>3</td>\n",
              "    </tr>\n",
              "    <tr>\n",
              "      <th>top</th>\n",
              "      <td>English Premier League</td>\n",
              "      <td>17/04/95</td>\n",
              "      <td>Arsenal</td>\n",
              "      <td>Arsenal</td>\n",
              "      <td>H</td>\n",
              "    </tr>\n",
              "    <tr>\n",
              "      <th>freq</th>\n",
              "      <td>11564</td>\n",
              "      <td>11</td>\n",
              "      <td>574</td>\n",
              "      <td>574</td>\n",
              "      <td>5305</td>\n",
              "    </tr>\n",
              "  </tbody>\n",
              "</table>\n",
              "</div>"
            ],
            "text/plain": [
              "                League            Date   HomeTeam AwayTeam Result\n",
              "count                    11564     11564    11564    11564  11564\n",
              "unique                       1      3170       50       50      3\n",
              "top     English Premier League  17/04/95  Arsenal  Arsenal      H\n",
              "freq                     11564        11      574      574   5305"
            ]
          },
          "execution_count": 18,
          "metadata": {},
          "output_type": "execute_result"
        }
      ],
      "source": [
        "df.describe(include=[\"object\",\"category\"])"
      ]
    },
    {
      "cell_type": "code",
      "execution_count": 19,
      "metadata": {},
      "outputs": [
        {
          "name": "stdout",
          "output_type": "stream",
          "text": [
            "League       0\n",
            "Date         0\n",
            "HomeTeam     0\n",
            "AwayTeam     0\n",
            "HomeGoals    0\n",
            "AwayGoals    0\n",
            "Result       0\n",
            "dtype: int64\n"
          ]
        }
      ],
      "source": [
        "print(df.isnull().sum())"
      ]
    },
    {
      "cell_type": "code",
      "execution_count": 20,
      "metadata": {},
      "outputs": [
        {
          "name": "stdout",
          "output_type": "stream",
          "text": [
            "League       0\n",
            "Date         0\n",
            "HomeTeam     0\n",
            "AwayTeam     0\n",
            "HomeGoals    0\n",
            "AwayGoals    0\n",
            "Result       0\n",
            "dtype: int64\n"
          ]
        }
      ],
      "source": [
        "print(df.isna().sum())"
      ]
    },
    {
      "cell_type": "code",
      "execution_count": 21,
      "metadata": {},
      "outputs": [
        {
          "name": "stdout",
          "output_type": "stream",
          "text": [
            "Shape of your Data Set loaded: (11564, 7)\n",
            "#######################################################################################\n",
            "######################## C L A S S I F Y I N G  V A R I A B L E S  ####################\n",
            "#######################################################################################\n",
            "Classifying variables in data set...\n",
            "    Number of Numeric Columns =  2\n",
            "    Number of Integer-Categorical Columns =  0\n",
            "    Number of String-Categorical Columns =  3\n",
            "    Number of Factor-Categorical Columns =  0\n",
            "    Number of String-Boolean Columns =  0\n",
            "    Number of Numeric-Boolean Columns =  0\n",
            "    Number of Discrete String Columns =  0\n",
            "    Number of NLP String Columns =  1\n",
            "    Number of Date Time Columns =  0\n",
            "    Number of ID Columns =  0\n",
            "    Number of Columns to Delete =  1\n",
            "    7 Predictors classified...\n",
            "        1 variable(s) removed since they were ID or low-information variables\n",
            "        List of variables removed: ['League']\n",
            "To fix these data quality issues in the dataset, import FixDQ from autoviz...\n",
            "    All variables classified into correct types.\n"
          ]
        },
        {
          "data": {
            "text/html": [
              "<style type=\"text/css\">\n",
              "#T_ad728_row0_col0, #T_ad728_row0_col2, #T_ad728_row0_col3, #T_ad728_row0_col4, #T_ad728_row0_col5, #T_ad728_row1_col0, #T_ad728_row1_col2, #T_ad728_row1_col3, #T_ad728_row1_col4, #T_ad728_row1_col5, #T_ad728_row2_col0, #T_ad728_row2_col2, #T_ad728_row2_col3, #T_ad728_row2_col4, #T_ad728_row2_col5, #T_ad728_row3_col0, #T_ad728_row3_col2, #T_ad728_row3_col3, #T_ad728_row3_col4, #T_ad728_row3_col5, #T_ad728_row4_col0, #T_ad728_row4_col2, #T_ad728_row4_col3, #T_ad728_row4_col4, #T_ad728_row4_col5, #T_ad728_row5_col0, #T_ad728_row5_col2, #T_ad728_row5_col3, #T_ad728_row5_col4, #T_ad728_row5_col5, #T_ad728_row6_col0, #T_ad728_row6_col2, #T_ad728_row6_col3, #T_ad728_row6_col4, #T_ad728_row6_col5 {\n",
              "  font-family: Segoe UI;\n",
              "}\n",
              "#T_ad728_row0_col1, #T_ad728_row1_col1, #T_ad728_row2_col1, #T_ad728_row3_col1, #T_ad728_row4_col1, #T_ad728_row5_col1, #T_ad728_row6_col1 {\n",
              "  background-color: #fff5f0;\n",
              "  color: #000000;\n",
              "  font-family: Segoe UI;\n",
              "}\n",
              "</style>\n",
              "<table id=\"T_ad728\">\n",
              "  <thead>\n",
              "    <tr>\n",
              "      <th class=\"blank level0\" >&nbsp;</th>\n",
              "      <th id=\"T_ad728_level0_col0\" class=\"col_heading level0 col0\" >Data Type</th>\n",
              "      <th id=\"T_ad728_level0_col1\" class=\"col_heading level0 col1\" >Missing Values%</th>\n",
              "      <th id=\"T_ad728_level0_col2\" class=\"col_heading level0 col2\" >Unique Values%</th>\n",
              "      <th id=\"T_ad728_level0_col3\" class=\"col_heading level0 col3\" >Minimum Value</th>\n",
              "      <th id=\"T_ad728_level0_col4\" class=\"col_heading level0 col4\" >Maximum Value</th>\n",
              "      <th id=\"T_ad728_level0_col5\" class=\"col_heading level0 col5\" >DQ Issue</th>\n",
              "    </tr>\n",
              "  </thead>\n",
              "  <tbody>\n",
              "    <tr>\n",
              "      <th id=\"T_ad728_level0_row0\" class=\"row_heading level0 row0\" >League</th>\n",
              "      <td id=\"T_ad728_row0_col0\" class=\"data row0 col0\" >object</td>\n",
              "      <td id=\"T_ad728_row0_col1\" class=\"data row0 col1\" >0.000000</td>\n",
              "      <td id=\"T_ad728_row0_col2\" class=\"data row0 col2\" >0</td>\n",
              "      <td id=\"T_ad728_row0_col3\" class=\"data row0 col3\" ></td>\n",
              "      <td id=\"T_ad728_row0_col4\" class=\"data row0 col4\" ></td>\n",
              "      <td id=\"T_ad728_row0_col5\" class=\"data row0 col5\" >Possible Zero-variance or low information colum: drop before modeling step.</td>\n",
              "    </tr>\n",
              "    <tr>\n",
              "      <th id=\"T_ad728_level0_row1\" class=\"row_heading level0 row1\" >Date</th>\n",
              "      <td id=\"T_ad728_row1_col0\" class=\"data row1 col0\" >object</td>\n",
              "      <td id=\"T_ad728_row1_col1\" class=\"data row1 col1\" >0.000000</td>\n",
              "      <td id=\"T_ad728_row1_col2\" class=\"data row1 col2\" >27</td>\n",
              "      <td id=\"T_ad728_row1_col3\" class=\"data row1 col3\" ></td>\n",
              "      <td id=\"T_ad728_row1_col4\" class=\"data row1 col4\" ></td>\n",
              "      <td id=\"T_ad728_row1_col5\" class=\"data row1 col5\" >No issue</td>\n",
              "    </tr>\n",
              "    <tr>\n",
              "      <th id=\"T_ad728_level0_row2\" class=\"row_heading level0 row2\" >HomeTeam</th>\n",
              "      <td id=\"T_ad728_row2_col0\" class=\"data row2 col0\" >object</td>\n",
              "      <td id=\"T_ad728_row2_col1\" class=\"data row2 col1\" >0.000000</td>\n",
              "      <td id=\"T_ad728_row2_col2\" class=\"data row2 col2\" >0</td>\n",
              "      <td id=\"T_ad728_row2_col3\" class=\"data row2 col3\" ></td>\n",
              "      <td id=\"T_ad728_row2_col4\" class=\"data row2 col4\" ></td>\n",
              "      <td id=\"T_ad728_row2_col5\" class=\"data row2 col5\" >15 rare categories: Too many to list. Group them into a single category or drop the categories.</td>\n",
              "    </tr>\n",
              "    <tr>\n",
              "      <th id=\"T_ad728_level0_row3\" class=\"row_heading level0 row3\" >AwayTeam</th>\n",
              "      <td id=\"T_ad728_row3_col0\" class=\"data row3 col0\" >object</td>\n",
              "      <td id=\"T_ad728_row3_col1\" class=\"data row3 col1\" >0.000000</td>\n",
              "      <td id=\"T_ad728_row3_col2\" class=\"data row3 col2\" >0</td>\n",
              "      <td id=\"T_ad728_row3_col3\" class=\"data row3 col3\" ></td>\n",
              "      <td id=\"T_ad728_row3_col4\" class=\"data row3 col4\" ></td>\n",
              "      <td id=\"T_ad728_row3_col5\" class=\"data row3 col5\" >15 rare categories: Too many to list. Group them into a single category or drop the categories.</td>\n",
              "    </tr>\n",
              "    <tr>\n",
              "      <th id=\"T_ad728_level0_row4\" class=\"row_heading level0 row4\" >HomeGoals</th>\n",
              "      <td id=\"T_ad728_row4_col0\" class=\"data row4 col0\" >float64</td>\n",
              "      <td id=\"T_ad728_row4_col1\" class=\"data row4 col1\" >0.000000</td>\n",
              "      <td id=\"T_ad728_row4_col2\" class=\"data row4 col2\" >NA</td>\n",
              "      <td id=\"T_ad728_row4_col3\" class=\"data row4 col3\" >0.000000</td>\n",
              "      <td id=\"T_ad728_row4_col4\" class=\"data row4 col4\" >9.000000</td>\n",
              "      <td id=\"T_ad728_row4_col5\" class=\"data row4 col5\" >Column has 897 outliers greater than upper bound (3.50) or lower than lower bound(-0.50). Cap them or remove them.</td>\n",
              "    </tr>\n",
              "    <tr>\n",
              "      <th id=\"T_ad728_level0_row5\" class=\"row_heading level0 row5\" >AwayGoals</th>\n",
              "      <td id=\"T_ad728_row5_col0\" class=\"data row5 col0\" >float64</td>\n",
              "      <td id=\"T_ad728_row5_col1\" class=\"data row5 col1\" >0.000000</td>\n",
              "      <td id=\"T_ad728_row5_col2\" class=\"data row5 col2\" >NA</td>\n",
              "      <td id=\"T_ad728_row5_col3\" class=\"data row5 col3\" >0.000000</td>\n",
              "      <td id=\"T_ad728_row5_col4\" class=\"data row5 col4\" >9.000000</td>\n",
              "      <td id=\"T_ad728_row5_col5\" class=\"data row5 col5\" >Column has 34 outliers greater than upper bound (5.00) or lower than lower bound(-3.00). Cap them or remove them.</td>\n",
              "    </tr>\n",
              "    <tr>\n",
              "      <th id=\"T_ad728_level0_row6\" class=\"row_heading level0 row6\" >Result</th>\n",
              "      <td id=\"T_ad728_row6_col0\" class=\"data row6 col0\" >object</td>\n",
              "      <td id=\"T_ad728_row6_col1\" class=\"data row6 col1\" >0.000000</td>\n",
              "      <td id=\"T_ad728_row6_col2\" class=\"data row6 col2\" >0</td>\n",
              "      <td id=\"T_ad728_row6_col3\" class=\"data row6 col3\" ></td>\n",
              "      <td id=\"T_ad728_row6_col4\" class=\"data row6 col4\" ></td>\n",
              "      <td id=\"T_ad728_row6_col5\" class=\"data row6 col5\" >No issue</td>\n",
              "    </tr>\n",
              "  </tbody>\n",
              "</table>\n"
            ],
            "text/plain": [
              "<pandas.io.formats.style.Styler at 0x245dd2f6f30>"
            ]
          },
          "metadata": {},
          "output_type": "display_data"
        },
        {
          "name": "stdout",
          "output_type": "stream",
          "text": [
            "Number of All Scatter Plots = 3\n"
          ]
        },
        {
          "name": "stderr",
          "output_type": "stream",
          "text": [
            "[nltk_data] Downloading collection 'popular'\n",
            "[nltk_data]    | \n",
            "[nltk_data]    | Downloading package cmudict to\n",
            "[nltk_data]    |     C:\\Users\\Thayse\\AppData\\Roaming\\nltk_data...\n",
            "[nltk_data]    |   Package cmudict is already up-to-date!\n",
            "[nltk_data]    | Downloading package gazetteers to\n",
            "[nltk_data]    |     C:\\Users\\Thayse\\AppData\\Roaming\\nltk_data...\n",
            "[nltk_data]    |   Package gazetteers is already up-to-date!\n",
            "[nltk_data]    | Downloading package genesis to\n",
            "[nltk_data]    |     C:\\Users\\Thayse\\AppData\\Roaming\\nltk_data...\n",
            "[nltk_data]    |   Package genesis is already up-to-date!\n",
            "[nltk_data]    | Downloading package gutenberg to\n",
            "[nltk_data]    |     C:\\Users\\Thayse\\AppData\\Roaming\\nltk_data...\n",
            "[nltk_data]    |   Package gutenberg is already up-to-date!\n",
            "[nltk_data]    | Downloading package inaugural to\n",
            "[nltk_data]    |     C:\\Users\\Thayse\\AppData\\Roaming\\nltk_data...\n",
            "[nltk_data]    |   Package inaugural is already up-to-date!\n",
            "[nltk_data]    | Downloading package movie_reviews to\n",
            "[nltk_data]    |     C:\\Users\\Thayse\\AppData\\Roaming\\nltk_data...\n",
            "[nltk_data]    |   Package movie_reviews is already up-to-date!\n",
            "[nltk_data]    | Downloading package names to\n",
            "[nltk_data]    |     C:\\Users\\Thayse\\AppData\\Roaming\\nltk_data...\n",
            "[nltk_data]    |   Package names is already up-to-date!\n",
            "[nltk_data]    | Downloading package shakespeare to\n",
            "[nltk_data]    |     C:\\Users\\Thayse\\AppData\\Roaming\\nltk_data...\n",
            "[nltk_data]    |   Package shakespeare is already up-to-date!\n",
            "[nltk_data]    | Downloading package stopwords to\n",
            "[nltk_data]    |     C:\\Users\\Thayse\\AppData\\Roaming\\nltk_data...\n",
            "[nltk_data]    |   Package stopwords is already up-to-date!\n",
            "[nltk_data]    | Downloading package treebank to\n",
            "[nltk_data]    |     C:\\Users\\Thayse\\AppData\\Roaming\\nltk_data...\n",
            "[nltk_data]    |   Package treebank is already up-to-date!\n",
            "[nltk_data]    | Downloading package twitter_samples to\n",
            "[nltk_data]    |     C:\\Users\\Thayse\\AppData\\Roaming\\nltk_data...\n",
            "[nltk_data]    |   Package twitter_samples is already up-to-date!\n",
            "[nltk_data]    | Downloading package omw to\n",
            "[nltk_data]    |     C:\\Users\\Thayse\\AppData\\Roaming\\nltk_data...\n",
            "[nltk_data]    |   Package omw is already up-to-date!\n",
            "[nltk_data]    | Downloading package omw-1.4 to\n",
            "[nltk_data]    |     C:\\Users\\Thayse\\AppData\\Roaming\\nltk_data...\n",
            "[nltk_data]    |   Package omw-1.4 is already up-to-date!\n",
            "[nltk_data]    | Downloading package wordnet to\n",
            "[nltk_data]    |     C:\\Users\\Thayse\\AppData\\Roaming\\nltk_data...\n",
            "[nltk_data]    |   Package wordnet is already up-to-date!\n",
            "[nltk_data]    | Downloading package wordnet2021 to\n",
            "[nltk_data]    |     C:\\Users\\Thayse\\AppData\\Roaming\\nltk_data...\n",
            "[nltk_data]    |   Package wordnet2021 is already up-to-date!\n",
            "[nltk_data]    | Downloading package wordnet31 to\n",
            "[nltk_data]    |     C:\\Users\\Thayse\\AppData\\Roaming\\nltk_data...\n",
            "[nltk_data]    |   Package wordnet31 is already up-to-date!\n",
            "[nltk_data]    | Downloading package wordnet_ic to\n",
            "[nltk_data]    |     C:\\Users\\Thayse\\AppData\\Roaming\\nltk_data...\n",
            "[nltk_data]    |   Package wordnet_ic is already up-to-date!\n",
            "[nltk_data]    | Downloading package words to\n",
            "[nltk_data]    |     C:\\Users\\Thayse\\AppData\\Roaming\\nltk_data...\n",
            "[nltk_data]    |   Package words is already up-to-date!\n",
            "[nltk_data]    | Downloading package maxent_ne_chunker to\n",
            "[nltk_data]    |     C:\\Users\\Thayse\\AppData\\Roaming\\nltk_data...\n",
            "[nltk_data]    |   Package maxent_ne_chunker is already up-to-date!\n",
            "[nltk_data]    | Downloading package punkt to\n",
            "[nltk_data]    |     C:\\Users\\Thayse\\AppData\\Roaming\\nltk_data...\n",
            "[nltk_data]    |   Package punkt is already up-to-date!\n",
            "[nltk_data]    | Downloading package snowball_data to\n",
            "[nltk_data]    |     C:\\Users\\Thayse\\AppData\\Roaming\\nltk_data...\n",
            "[nltk_data]    |   Package snowball_data is already up-to-date!\n",
            "[nltk_data]    | Downloading package averaged_perceptron_tagger to\n",
            "[nltk_data]    |     C:\\Users\\Thayse\\AppData\\Roaming\\nltk_data...\n",
            "[nltk_data]    |   Package averaged_perceptron_tagger is already up-\n",
            "[nltk_data]    |       to-date!\n",
            "[nltk_data]    | \n",
            "[nltk_data]  Done downloading collection popular\n"
          ]
        },
        {
          "name": "stdout",
          "output_type": "stream",
          "text": [
            "Could not draw wordcloud plot for Date. \n",
            "Looks like you are missing some required data for this feature.\n",
            "\n",
            "To download the necessary data, simply run\n",
            "\n",
            "    python -m textblob.download_corpora\n",
            "\n",
            "or use the NLTK downloader to download the missing data: http://nltk.org/data.html\n",
            "If this doesn't fix the problem, file an issue at https://github.com/sloria/TextBlob/issues.\n",
            "\n",
            "All Plots done\n",
            "Time to run AutoViz = 3 seconds \n",
            "\n",
            " ###################### AUTO VISUALIZATION Completed ########################\n"
          ]
        }
      ],
      "source": [
        "av = AutoViz_Class()\n",
        "report = av.AutoViz(df)"
      ]
    },
    {
      "cell_type": "code",
      "execution_count": 22,
      "metadata": {},
      "outputs": [
        {
          "data": {
            "application/vnd.jupyter.widget-view+json": {
              "model_id": "98b2ce2d1c144f829fb98d158124eca1",
              "version_major": 2,
              "version_minor": 0
            },
            "text/plain": [
              "                                             |          | [  0%]   00:00 -> (? left)"
            ]
          },
          "metadata": {},
          "output_type": "display_data"
        },
        {
          "name": "stdout",
          "output_type": "stream",
          "text": [
            "Report sweetviz_report.html was generated! NOTEBOOK/COLAB USERS: the web browser MAY not pop up, regardless, the report IS saved in your notebook/colab files.\n"
          ]
        }
      ],
      "source": [
        "import sweetviz as sv\n",
        "\n",
        "report = sv.analyze(df)\n",
        "report.show_html(\"sweetviz_report.html\")"
      ]
    },
    {
      "cell_type": "code",
      "execution_count": 23,
      "metadata": {},
      "outputs": [],
      "source": [
        "d = dtale.show(df)\n",
        "d.open_browser()"
      ]
    }
  ],
  "metadata": {
    "colab": {
      "provenance": []
    },
    "kernelspec": {
      "display_name": "base",
      "language": "python",
      "name": "python3"
    },
    "language_info": {
      "codemirror_mode": {
        "name": "ipython",
        "version": 3
      },
      "file_extension": ".py",
      "mimetype": "text/x-python",
      "name": "python",
      "nbconvert_exporter": "python",
      "pygments_lexer": "ipython3",
      "version": "3.12.7"
    }
  },
  "nbformat": 4,
  "nbformat_minor": 0
}
